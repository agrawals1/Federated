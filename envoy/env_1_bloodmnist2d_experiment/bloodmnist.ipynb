{
 "cells": [
  {
   "cell_type": "code",
   "execution_count": null,
   "id": "2fdeaed6",
   "metadata": {
    "id": "2fdeaed6"
   },
   "outputs": [],
   "source": [
    "import os\n",
    "import logging\n",
    "\n",
    "# Better CPU Utilization\n",
    "os.environ['OMP_NUM_THREADS'] = str(int(os.cpu_count()))\n",
    "os.chdir('/home/shubham/Academics/Thesis/openfl/openfl-tutorials/interactive_api/PyTorch_MedMNIST_2D')\n",
    "os.getcwd()"
   ]
  },
  {
   "attachments": {},
   "cell_type": "markdown",
   "id": "63217fab",
   "metadata": {
    "id": "63217fab"
   },
   "source": [
    "# Part 1. Centralized Setting\n",
    "\n",
    "Setting up your model, optimizer and data."
   ]
  },
  {
   "cell_type": "markdown",
   "id": "578678b6",
   "metadata": {
    "id": "578678b6"
   },
   "source": [
    "### Imports"
   ]
  },
  {
   "cell_type": "code",
   "execution_count": null,
   "id": "ca564a9a-8473-4207-aa41-c80111021e48",
   "metadata": {
    "colab": {
     "base_uri": "https://localhost:8080/"
    },
    "id": "ca564a9a-8473-4207-aa41-c80111021e48",
    "outputId": "72f9a98b-baa2-4995-f253-47bb038c364e"
   },
   "outputs": [],
   "source": [
    "import numpy as np\n",
    "from tqdm import tqdm\n",
    "from pprint import pprint\n",
    "\n",
    "import torch\n",
    "import medmnist\n",
    "\n"
   ]
  },
  {
   "cell_type": "code",
   "execution_count": null,
   "id": "oJur9-6midCi",
   "metadata": {
    "colab": {
     "base_uri": "https://localhost:8080/"
    },
    "id": "oJur9-6midCi",
    "outputId": "25cbfa76-aac1-494b-9c46-364eaa7753e8"
   },
   "outputs": [],
   "source": [
    "# Train/test options\n",
    "NUM_EPOCHS = 3\n",
    "BATCH_SIZE = 64\n",
    "DEVICE = 'cuda'\n",
    "\n",
    "# Dataset\n",
    "DATASET_NAME = 'bloodmnist'\n",
    "DATASET_PATH = './data'\n",
    "ds_info = medmnist.INFO[DATASET_NAME]\n",
    "pprint(ds_info)"
   ]
  },
  {
   "cell_type": "markdown",
   "id": "a0ff90c2",
   "metadata": {
    "id": "a0ff90c2"
   },
   "source": [
    "### Familiarize with the Dataset\n",
    "\n",
    "Let's use some plotting tools here."
   ]
  },
  {
   "cell_type": "code",
   "execution_count": null,
   "id": "983adc4a",
   "metadata": {
    "colab": {
     "base_uri": "https://localhost:8080/",
     "height": 690,
     "referenced_widgets": [
      "5fceddccde554f2d942c11679dc3c986",
      "5ba4547a5f404864b5dc28e1a18cc384",
      "ec26fda46b5449e59d4a39e55b700db1",
      "a2818c8b53df4482817879334c8c8559",
      "30c12d51d9f747f8b65b2222e28d0956",
      "2b250da531934bb5874a5af261c97e53",
      "39930de3b8774a1fa5841adbabec699e",
      "bcca1e1d2ad8446797fc9d67f25bc694",
      "90f9f36e05b54e799daf9aee65a133a8",
      "dd68ec9dea2141a4892663e66e9d54a8",
      "37ef8c1ab50b4364bde3991c8d3047ee"
     ]
    },
    "id": "983adc4a",
    "outputId": "29220bc3-7064-4788-b4d7-23c7bb8663cc"
   },
   "outputs": [],
   "source": [
    "import pandas as pd\n",
    "from PIL import Image\n",
    "import matplotlib.pyplot as plt\n",
    "from torchvision import transforms as T\n",
    "from torch.utils.data import Dataset, DataLoader\n",
    "\n",
    "from envoy.medmnist_shard_descriptor import MedMNISTShardDescriptor\n",
    "\n",
    "# Download raw numpy dataset\n",
    "sd = MedMNISTShardDescriptor(datapath=DATASET_PATH, dataname=DATASET_NAME)\n",
    "(x_train, y_train), (x_test, y_test) = sd.load_data()\n",
    "\n",
    "# Visualize few samples\n",
    "n_img = 5\n",
    "train_samples = x_train[:n_img*n_img]\n",
    "\n",
    "label2str = list(ds_info['label'].values())\n",
    "\n",
    "fig, ax = plt.subplots(n_img, n_img, figsize=(8, 8))\n",
    "\n",
    "for k in range(len(train_samples)):\n",
    "    i = k // n_img\n",
    "    j = k % n_img\n",
    "    img = train_samples[k]\n",
    "    label = np.squeeze(y_train[k])\n",
    "    ax[i, j].imshow(Image.fromarray(img))\n",
    "    ax[i, j].title.set_text(label2str[label][:9])\n",
    "    ax[i, j].axis('off')\n",
    "plt.suptitle(DATASET_NAME)\n",
    "fig.subplots_adjust(wspace=0.03, hspace=0.3)\n"
   ]
  },
  {
   "cell_type": "markdown",
   "id": "ceeedac3",
   "metadata": {
    "id": "ceeedac3"
   },
   "source": [
    "### Define Dataset/Dataloader Classes\n",
    "\n",
    "We'll create a simple PyTorch-style iterator dataset that returns single `numpy` element as a `torch.Tensor`. The class used for this would be `torch.utils.data.Dataset`\n",
    "\n",
    "We will then wrap this dataset object with a Dataloader class, that batches and shuffles the elements. Class: `torch.utils.data.DataLoader`"
   ]
  },
  {
   "cell_type": "code",
   "execution_count": null,
   "id": "cda53dec",
   "metadata": {
    "colab": {
     "base_uri": "https://localhost:8080/"
    },
    "id": "cda53dec",
    "outputId": "b24848de-8a7f-4223-e631-6537a1b8a251"
   },
   "outputs": [],
   "source": [
    "\n",
    "class MedMNISTDataset(Dataset):\n",
    "    \"\"\"MedMNIST dataset class\"\"\"\n",
    "\n",
    "    def __init__(self, x, y, data_type: str = 'train') -> None:\n",
    "        \"\"\"Initialize MedMNISTDataset.\"\"\"\n",
    "        self.x, self.y = x, y\n",
    "        self.data_type = data_type\n",
    "\n",
    "    def __getitem__(self, index: int):\n",
    "        \"\"\"Return an item by the index.\"\"\"\n",
    "        return self.x[index], self.y[index]\n",
    "\n",
    "    def __len__(self) -> int:\n",
    "        \"\"\"Return the len of the dataset.\"\"\"\n",
    "        return len(self.x)\n",
    "\n",
    "\n",
    "class TransformDataset(Dataset):\n",
    "    \"\"\"Apply transforms to each element of dataset\"\"\"\n",
    "\n",
    "    def __init__(self, dataset, transform=None, target_transform=None):\n",
    "        self.dataset = dataset\n",
    "        self.transform = transform\n",
    "        self.target_transform = target_transform\n",
    "\n",
    "    def __len__(self):\n",
    "        return len(self.dataset)\n",
    "\n",
    "    def __getitem__(self, index):\n",
    "        img, label = self.dataset[index]\n",
    "\n",
    "        if self.target_transform:\n",
    "            label = self.target_transform(label)\n",
    "\n",
    "        if self.transform:\n",
    "            img = Image.fromarray(img)\n",
    "            img = self.transform(img)\n",
    "        \n",
    "        return img, label\n",
    "\n",
    "\n",
    "transform = T.Compose([T.ToTensor(), T.Normalize(mean=[0.], std=[1.0])])\n",
    "\n",
    "train_ds = TransformDataset(MedMNISTDataset(x=x_train, y=y_train),\n",
    "                              transform=transform)\n",
    "train_dl = DataLoader(train_ds,\n",
    "                      batch_size=BATCH_SIZE,\n",
    "                      shuffle=True,\n",
    "                      num_workers=8)\n",
    "\n",
    "test_ds = TransformDataset(MedMNISTDataset(x=x_test, y=y_test),\n",
    "                             transform=transform)\n",
    "test_dl = DataLoader(test_ds, batch_size=BATCH_SIZE, num_workers=8)\n"
   ]
  },
  {
   "cell_type": "markdown",
   "id": "a0864d43",
   "metadata": {
    "id": "a0864d43"
   },
   "source": [
    "### Model Definition (CNN)"
   ]
  },
  {
   "cell_type": "code",
   "execution_count": null,
   "id": "fde856d8-da4e-4d2f-bee2-85e673050623",
   "metadata": {
    "colab": {
     "base_uri": "https://localhost:8080/"
    },
    "id": "fde856d8-da4e-4d2f-bee2-85e673050623",
    "outputId": "e1f941ca-a0e1-4119-faef-afa92b4df224"
   },
   "outputs": [],
   "source": [
    "import torch.nn as nn\n",
    "import torch.nn.functional as F\n",
    "\n",
    "\n",
    "class Net(nn.Module):\n",
    "\n",
    "    def __init__(self, in_channels, num_classes):\n",
    "        super(Net, self).__init__()\n",
    "\n",
    "        self.layer1 = nn.Sequential(nn.Conv2d(in_channels, 16, kernel_size=3),\n",
    "                                    nn.BatchNorm2d(16), nn.ReLU())\n",
    "\n",
    "        self.layer2 = nn.Sequential(nn.Conv2d(16, 16, kernel_size=3),\n",
    "                                    nn.BatchNorm2d(16), nn.ReLU(),\n",
    "                                    nn.MaxPool2d(kernel_size=2, stride=2))\n",
    "\n",
    "        self.layer3 = nn.Sequential(nn.Conv2d(16, 64, kernel_size=3),\n",
    "                                    nn.BatchNorm2d(64), nn.ReLU())\n",
    "\n",
    "        self.layer4 = nn.Sequential(nn.Conv2d(64, 64, kernel_size=3),\n",
    "                                    nn.BatchNorm2d(64), nn.ReLU())\n",
    "\n",
    "        self.layer5 = nn.Sequential(nn.Conv2d(64, 64, kernel_size=3, padding=1),\n",
    "                                    nn.BatchNorm2d(64), nn.ReLU(),\n",
    "                                    nn.MaxPool2d(kernel_size=2, stride=2))\n",
    "\n",
    "        self.fc = nn.Sequential(nn.Linear(64 * 4 * 4, 128), \n",
    "                                nn.ReLU(),\n",
    "                                nn.Dropout(0.5),\n",
    "                                nn.Linear(128, num_classes))\n",
    "\n",
    "    def forward(self, x):\n",
    "        x = self.layer1(x)\n",
    "        x = self.layer2(x)\n",
    "        x = self.layer3(x)\n",
    "        x = self.layer4(x)\n",
    "        x = self.layer5(x)\n",
    "        x = x.view(x.size(0), -1)\n",
    "        x = self.fc(x)\n",
    "        return x\n",
    "\n",
    "\n",
    "test_model = Net(in_channels=ds_info['n_channels'],\n",
    "                 num_classes=len(ds_info['label']))\n",
    "print(test_model)\n",
    "print('Total Parameters:',\n",
    "      sum([torch.numel(p) for p in test_model.parameters()]))\n",
    "print('Trainable Parameters:',\n",
    "      sum([torch.numel(p) for p in test_model.parameters() if p.requires_grad]))\n"
   ]
  },
  {
   "cell_type": "markdown",
   "id": "55fa0e3c",
   "metadata": {
    "id": "55fa0e3c"
   },
   "source": [
    "### Define Training/Validation Loops"
   ]
  },
  {
   "cell_type": "code",
   "execution_count": null,
   "id": "01a0ce23",
   "metadata": {
    "id": "01a0ce23"
   },
   "outputs": [],
   "source": [
    "def train(model, train_loader, optimizer, device, criterion, task):\n",
    "    model.train()\n",
    "    model = model.to(device)\n",
    "\n",
    "    losses = []\n",
    "    correct = 0\n",
    "    total = 0\n",
    "    for inputs, targets in tqdm(train_loader, desc=\"train\"):\n",
    "\n",
    "        optimizer.zero_grad()\n",
    "        outputs = model(inputs.to(device))\n",
    "\n",
    "        if task == 'multi-label, binary-class':\n",
    "            targets = targets.to(torch.float32).to(device)\n",
    "            loss = criterion(outputs, targets)\n",
    "        else:\n",
    "            targets = torch.squeeze(targets, 1).long().to(device)\n",
    "            loss = criterion(outputs, targets)\n",
    "\n",
    "        losses.append(loss.item())\n",
    "        loss.backward()\n",
    "        optimizer.step()\n",
    "\n",
    "    total += targets.shape[0]\n",
    "    correct += torch.sum(outputs.max(1)[1] == targets).item()\n",
    "\n",
    "    return {\n",
    "        'train_acc': np.round(correct / total, 3),\n",
    "        'train_loss': np.round(np.mean(losses), 3),\n",
    "    }\n",
    "\n",
    "\n",
    "def validate(model, val_loader, device, criterion, task):\n",
    "    model.eval()\n",
    "    model = model.to(device)\n",
    "\n",
    "    losses = []\n",
    "    correct = 0\n",
    "    total = 0\n",
    "    with torch.no_grad():\n",
    "        for inputs, targets in tqdm(val_loader, desc=\"validate\"):\n",
    "            outputs = model(inputs.to(device))\n",
    "\n",
    "            if task == 'multi-label, binary-class':\n",
    "                targets = targets.to(torch.float32).to(device)\n",
    "                loss = criterion(outputs, targets)\n",
    "                m = nn.Sigmoid()\n",
    "                outputs = m(outputs).to(device)\n",
    "            else:\n",
    "                targets = torch.squeeze(targets, 1).long().to(device)\n",
    "                loss = criterion(outputs, targets)\n",
    "\n",
    "            losses.append(loss.item())\n",
    "            total += targets.shape[0]\n",
    "            correct += (outputs.max(1)[1] == targets).sum().cpu().numpy()\n",
    "\n",
    "        return {\n",
    "            'val_acc': np.round(correct / total, 3),\n",
    "            'val_loss': np.round(np.mean(losses), 3),\n",
    "        }\n"
   ]
  },
  {
   "cell_type": "markdown",
   "id": "ee349f9c",
   "metadata": {
    "id": "ee349f9c"
   },
   "source": [
    "### Train\n",
    "\n",
    "This is how you'd train **with** access to all data."
   ]
  },
  {
   "cell_type": "code",
   "execution_count": null,
   "id": "2018225f",
   "metadata": {
    "colab": {
     "base_uri": "https://localhost:8080/"
    },
    "id": "2018225f",
    "outputId": "78372771-e616-4e63-ae67-04ec092d52c8"
   },
   "outputs": [],
   "source": [
    "# centralized_model = Net(in_channels=ds_info['n_channels'],\n",
    "#                         num_classes=len(ds_info['label']))\n",
    "# optimizer = torch.optim.Adam(centralized_model.parameters(), lr=1e-4)\n",
    "# criterion = nn.CrossEntropyLoss()\n",
    "\n",
    "# # Start!\n",
    "# history = validate(centralized_model,\n",
    "#                    test_dl,\n",
    "#                    device=DEVICE,\n",
    "#                    criterion=criterion,\n",
    "#                    task=ds_info['task'])\n",
    "# print('Before training: ', history)\n",
    "\n",
    "# for epoch in range(NUM_EPOCHS):\n",
    "#     train_history = train(centralized_model,\n",
    "#                           train_dl,\n",
    "#                           device=DEVICE,\n",
    "#                           optimizer=optimizer,\n",
    "#                           criterion=criterion,\n",
    "#                           task=ds_info['task'])\n",
    "#     val_history = validate(centralized_model,\n",
    "#                            test_dl,\n",
    "#                            device=DEVICE,\n",
    "#                            criterion=criterion,\n",
    "#                            task=ds_info['task'])\n",
    "#     print(f'Epoch {epoch}: {train_history} - {val_history}')\n"
   ]
  },
  {
   "cell_type": "code",
   "execution_count": null,
   "metadata": {},
   "outputs": [],
   "source": [
    "torch.cuda.is_available()"
   ]
  },
  {
   "cell_type": "markdown",
   "id": "cd2e26a5-9f4e-4011-a999-e428246aa8c1",
   "metadata": {
    "id": "cd2e26a5-9f4e-4011-a999-e428246aa8c1"
   },
   "source": [
    "# Part 2. Go Federated"
   ]
  },
  {
   "cell_type": "code",
   "execution_count": null,
   "id": "c0c3e78b-6e9d-4efc-9b30-3ddc413c0423",
   "metadata": {
    "id": "c0c3e78b-6e9d-4efc-9b30-3ddc413c0423"
   },
   "outputs": [],
   "source": [
    "import os\n",
    "import yaml\n",
    "import time\n",
    "from pathlib import Path\n",
    "from typing import Dict, List, Union"
   ]
  },
  {
   "cell_type": "code",
   "execution_count": null,
   "id": "e736d33f-5df2-4a2f-8210-f1feba9fd367",
   "metadata": {
    "colab": {
     "base_uri": "https://localhost:8080/"
    },
    "id": "e736d33f-5df2-4a2f-8210-f1feba9fd367",
    "outputId": "f454cbb2-5c02-4805-cf27-37bda40dea25"
   },
   "outputs": [],
   "source": [
    "# Should be the same as defined in `director_config.yaml`\n",
    "director_node_fqdn = 'localhost'\n",
    "director_port = 50051\n",
    "\n",
    "director_workspace_path = 'director'\n",
    "director_config_file = os.path.join(director_workspace_path,'director_config.yaml')\n",
    "director_logfile = os.path.join(director_workspace_path, 'director.log')\n",
    "\n",
    "# Start director\n",
    "# os.system(f'fx director start --disable-tls -c {director_config_file} '\n",
    "#           f'>{director_logfile} &')\n",
    "# !sleep 5 && tail -n5 $director_logfile"
   ]
  },
  {
   "cell_type": "code",
   "execution_count": null,
   "id": "c0e65a39-15f7-4cca-90bb-a2970b7be9f0",
   "metadata": {
    "id": "c0e65a39-15f7-4cca-90bb-a2970b7be9f0"
   },
   "outputs": [],
   "source": [
    "def generate_envoy_configs(\n",
    "        config: dict,\n",
    "        n_cols: int,\n",
    "        datapath: str,\n",
    "        dataname: str,\n",
    "        save_path: str) -> list:\n",
    "    \n",
    "    config_paths = list()\n",
    "    for i in range(1, n_cols+1):\n",
    "        path = os.path.abspath(os.path.join(save_path, f'{i}_envoy_config.yaml'))\n",
    "        config['shard_descriptor']['params']['datapath'] = datapath\n",
    "        config['shard_descriptor']['params']['dataname'] = dataname    \n",
    "        config['shard_descriptor']['params']['rank_worldsize'] = f'{i},{n_cols}'\n",
    "        with open(path, 'w') as f:\n",
    "            yaml.safe_dump(config, f)\n",
    "        config_paths.append(path)\n",
    "    return config_paths"
   ]
  },
  {
   "cell_type": "code",
   "execution_count": null,
   "id": "90109c5b-c785-4af7-ace9-dcd913018dca",
   "metadata": {
    "id": "90109c5b-c785-4af7-ace9-dcd913018dca"
   },
   "outputs": [],
   "source": [
    "# Read the original envoy config file content\n",
    "tutorial_dir = '/home/shubham/Academics/Thesis/openfl/openfl-tutorials/interactive_api/PyTorch_MedMNIST_2D'\n",
    "original_config_path = os.path.join(tutorial_dir, 'envoy', 'envoy_config.yaml')\n",
    "with open(original_config_path, 'r') as f:\n",
    "    original_config = yaml.safe_load(f)\n",
    "\n",
    "# Generate configs for as many envoys\n",
    "# config_paths = generate_envoy_configs(original_config,\n",
    "#                                       n_cols=1,\n",
    "#                                       datapath=DATASET_PATH,\n",
    "#                                       dataname=DATASET_NAME,\n",
    "#                                       save_path=os.path.dirname(original_config_path))\n",
    "# Start envoys in a loop\n",
    "# cwd = os.getcwd()\n",
    "# for i, path in enumerate(config_paths):\n",
    "#     print(f'Starting Envoy {i+1}')\n",
    "#     os.chdir(os.path.dirname(path))\n",
    "\n",
    "#     # Wait until envoy loads dataset\n",
    "#     os.system(f'fx envoy start -n env_{i+1} --disable-tls '\n",
    "#                 f'--envoy-config-path {path} -dh {director_node_fqdn} -dp {director_port} '\n",
    "#                 f'>env_{i+1}.log 2>&1 &')\n",
    "#     !grep -q \"MedMNIST data was loaded\" <( tail -f env_{i+1}.log )\n",
    "    \n",
    "#     os.chdir(cwd)"
   ]
  },
  {
   "cell_type": "markdown",
   "id": "6216f14c-78d8-444c-9144-ee8316d1487b",
   "metadata": {
    "id": "6216f14c-78d8-444c-9144-ee8316d1487b"
   },
   "source": [
    "### Connect this Notebook\n",
    "\n",
    "This is where you take the seat of a Data Scientist, who bears control over the `model`, `train()`, `validate()` and other logic that `Director` and `Envoy` help you execute across participants."
   ]
  },
  {
   "cell_type": "code",
   "execution_count": null,
   "id": "b9d3b764-cb86-4eec-ba8e-df119da7a27f",
   "metadata": {
    "colab": {
     "base_uri": "https://localhost:8080/"
    },
    "id": "b9d3b764-cb86-4eec-ba8e-df119da7a27f",
    "outputId": "f74cad4f-6c88-4118-b67c-06c38adb6100"
   },
   "outputs": [],
   "source": [
    "# Create a federation\n",
    "from openfl.interface.interactive_api.federation import Federation\n",
    "\n",
    "# Federation can also determine local fqdn automatically\n",
    "federation = Federation(client_id='env_1',\n",
    "                        director_node_fqdn=director_node_fqdn,\n",
    "                        director_port=director_port,\n",
    "                        tls=False)\n",
    "\n",
    "# Data scientist may request a list of connected envoys\n",
    "shard_registry = federation.get_shard_registry()\n",
    "pprint(shard_registry)"
   ]
  },
  {
   "cell_type": "code",
   "execution_count": null,
   "id": "13f9d6e8-d020-4ceb-89d0-14113e0f8b9e",
   "metadata": {
    "id": "13f9d6e8-d020-4ceb-89d0-14113e0f8b9e"
   },
   "outputs": [],
   "source": [
    "from openfl.interface.interactive_api.experiment import DataInterface\n",
    "\n",
    "\n",
    "class MedMnistFedDataset(DataInterface):\n",
    "\n",
    "    def __init__(self, **kwargs):\n",
    "        self.kwargs = kwargs\n",
    "\n",
    "    @property\n",
    "    def shard_descriptor(self):\n",
    "        return self._shard_descriptor\n",
    "\n",
    "    @shard_descriptor.setter\n",
    "    def shard_descriptor(self, shard_descriptor):\n",
    "        \"\"\"\n",
    "        Describe per-collaborator procedures or sharding.\n",
    "\n",
    "        This method will be called during a collaborator initialization.\n",
    "        Local shard_descriptor  will be set by Envoy.\n",
    "        \"\"\"\n",
    "        self._shard_descriptor = shard_descriptor\n",
    "\n",
    "        self.train_set = TransformDataset(\n",
    "            self._shard_descriptor.get_dataset('train'), transform=transform)\n",
    "\n",
    "        self.valid_set = TransformDataset(\n",
    "            self._shard_descriptor.get_dataset('val'), transform=transform)\n",
    "\n",
    "    def get_train_loader(self, **kwargs):\n",
    "        \"\"\"\n",
    "        Output of this method will be provided to tasks with optimizer in contract\n",
    "        \"\"\"\n",
    "        return DataLoader(self.train_set,\n",
    "                          num_workers=8,\n",
    "                          batch_size=self.kwargs['train_bs'],\n",
    "                          shuffle=True)\n",
    "\n",
    "    def get_valid_loader(self, **kwargs):\n",
    "        \"\"\"\n",
    "        Output of this method will be provided to tasks without optimizer in contract\n",
    "        \"\"\"\n",
    "        return DataLoader(self.valid_set,\n",
    "                          num_workers=8,\n",
    "                          batch_size=self.kwargs['valid_bs'])\n",
    "\n",
    "    def get_train_data_size(self):\n",
    "        \"\"\"\n",
    "        Information for aggregation\n",
    "        \"\"\"\n",
    "        return len(self.train_set)\n",
    "\n",
    "    def get_valid_data_size(self):\n",
    "        \"\"\"\n",
    "        Information for aggregation\n",
    "        \"\"\"\n",
    "        return len(self.valid_set)\n"
   ]
  },
  {
   "cell_type": "code",
   "execution_count": null,
   "id": "ccccaa67-6dfb-437f-b201-46b2a2561730",
   "metadata": {
    "id": "ccccaa67-6dfb-437f-b201-46b2a2561730"
   },
   "outputs": [],
   "source": [
    "fed_dataset = MedMnistFedDataset(train_bs=BATCH_SIZE, valid_bs=BATCH_SIZE)"
   ]
  },
  {
   "cell_type": "code",
   "execution_count": null,
   "id": "885a8530-6248-4060-a30a-45cdc79bc41a",
   "metadata": {
    "id": "885a8530-6248-4060-a30a-45cdc79bc41a"
   },
   "outputs": [],
   "source": [
    "from openfl.interface.interactive_api.experiment import ModelInterface\n",
    "\n",
    "model = Net(in_channels=ds_info['n_channels'],\n",
    "            num_classes=len(ds_info['label']))\n",
    "optimizer = torch.optim.Adam(model.parameters(), lr=1e-4)\n",
    "framework_adapter = 'openfl.plugins.frameworks_adapters.pytorch_adapter.FrameworkAdapterPlugin'\n",
    "\n",
    "MI = ModelInterface(model=model,\n",
    "                    optimizer=optimizer,\n",
    "                    framework_plugin=framework_adapter)"
   ]
  },
  {
   "cell_type": "code",
   "execution_count": null,
   "id": "7e101689-8a63-4562-98ff-09443b1ab9f2",
   "metadata": {
    "colab": {
     "base_uri": "https://localhost:8080/"
    },
    "id": "7e101689-8a63-4562-98ff-09443b1ab9f2",
    "outputId": "7565f47f-bd3e-4b69-8e2d-b821410a71ff"
   },
   "outputs": [],
   "source": [
    "from openfl.interface.interactive_api.experiment import TaskInterface\n",
    "\n",
    "# Task interface currently supports only standalone functions.\n",
    "TI = TaskInterface()\n",
    "criterion = nn.CrossEntropyLoss()\n",
    "fixed = {'criterion': criterion, 'task': ds_info['task']}\n",
    "\n",
    "# Train task\n",
    "TI.add_kwargs(**fixed)(TI.register_fl_task(model='model',\n",
    "                                           data_loader='train_loader',\n",
    "                                           device='device',\n",
    "                                           optimizer='optimizer')(train))\n",
    "\n",
    "# Validate task\n",
    "TI.add_kwargs(**fixed)(TI.register_fl_task(model='model',\n",
    "                                           device='device',\n",
    "                                           data_loader='val_loader')(validate))\n"
   ]
  },
  {
   "cell_type": "markdown",
   "id": "40a4623e-6559-4d4c-b199-f9afe16c0bbd",
   "metadata": {
    "id": "40a4623e-6559-4d4c-b199-f9afe16c0bbd",
    "tags": []
   },
   "source": [
    "### Run the experiment"
   ]
  },
  {
   "cell_type": "code",
   "execution_count": null,
   "id": "fb357a88-7098-45b2-85f4-71fe2f2e0f82",
   "metadata": {
    "colab": {
     "base_uri": "https://localhost:8080/"
    },
    "id": "fb357a88-7098-45b2-85f4-71fe2f2e0f82",
    "outputId": "9bdf0082-39a8-46ea-9b82-35adbdaf2061"
   },
   "outputs": [],
   "source": [
    "from openfl.interface.interactive_api.experiment import FLExperiment\n",
    "\n",
    "fl_experiment = FLExperiment(federation=federation,\n",
    "                             experiment_name='bloodmnist2d_experiment')\n",
    "fl_experiment.start(model_provider=MI,\n",
    "                    task_keeper=TI,\n",
    "                    data_loader=fed_dataset,\n",
    "                    rounds_to_train=3,\n",
    "                    device_assignment_policy='CUDA_PREFERRED')"
   ]
  },
  {
   "cell_type": "code",
   "execution_count": null,
   "id": "4909be2b-d23b-4356-b2af-10a212382d52",
   "metadata": {
    "colab": {
     "base_uri": "https://localhost:8080/"
    },
    "id": "4909be2b-d23b-4356-b2af-10a212382d52",
    "outputId": "e24b859b-0ac2-4dce-ab1e-ed97932d632c",
    "scrolled": false,
    "tags": []
   },
   "outputs": [],
   "source": [
    "# This method not only prints messages recieved from the director,\n",
    "# but also saves logs in the tensorboard format (by default)\n",
    "fl_experiment.stream_metrics()"
   ]
  },
  {
   "cell_type": "markdown",
   "id": "9e365766-4ea6-40bc-96ae-a183274e8b8c",
   "metadata": {
    "id": "9e365766-4ea6-40bc-96ae-a183274e8b8c"
   },
   "source": [
    "### Cleanup"
   ]
  },
  {
   "cell_type": "code",
   "execution_count": null,
   "id": "e5d793be-6c20-4a22-bad7-c082c1ee76ca",
   "metadata": {
    "id": "e5d793be-6c20-4a22-bad7-c082c1ee76ca"
   },
   "outputs": [],
   "source": [
    "# To stop all services run\n",
    "# !pkill fx\n",
    "# [os.remove(path) for path in config_paths]"
   ]
  },
  {
   "cell_type": "code",
   "execution_count": null,
   "id": "70a1ecce",
   "metadata": {},
   "outputs": [],
   "source": [
    "!tensorboard --logdir logs"
   ]
  },
  {
   "cell_type": "code",
   "execution_count": null,
   "id": "e8453212",
   "metadata": {},
   "outputs": [],
   "source": []
  }
 ],
 "metadata": {
  "colab": {
   "collapsed_sections": [],
   "provenance": []
  },
  "kernelspec": {
   "display_name": "Python 3.8.0 ('venv': venv)",
   "language": "python",
   "name": "python3"
  },
  "language_info": {
   "codemirror_mode": {
    "name": "ipython",
    "version": 3
   },
   "file_extension": ".py",
   "mimetype": "text/x-python",
   "name": "python",
   "nbconvert_exporter": "python",
   "pygments_lexer": "ipython3",
   "version": "3.8.16"
  },
  "vscode": {
   "interpreter": {
    "hash": "f43db3e1b37af6d897db69efad3b1c690ae8b3c11b26caaa91054cfebd4932bb"
   }
  },
  "widgets": {
   "application/vnd.jupyter.widget-state+json": {
    "2b250da531934bb5874a5af261c97e53": {
     "model_module": "@jupyter-widgets/base",
     "model_module_version": "1.2.0",
     "model_name": "LayoutModel",
     "state": {
      "_model_module": "@jupyter-widgets/base",
      "_model_module_version": "1.2.0",
      "_model_name": "LayoutModel",
      "_view_count": null,
      "_view_module": "@jupyter-widgets/base",
      "_view_module_version": "1.2.0",
      "_view_name": "LayoutView",
      "align_content": null,
      "align_items": null,
      "align_self": null,
      "border": null,
      "bottom": null,
      "display": null,
      "flex": null,
      "flex_flow": null,
      "grid_area": null,
      "grid_auto_columns": null,
      "grid_auto_flow": null,
      "grid_auto_rows": null,
      "grid_column": null,
      "grid_gap": null,
      "grid_row": null,
      "grid_template_areas": null,
      "grid_template_columns": null,
      "grid_template_rows": null,
      "height": null,
      "justify_content": null,
      "justify_items": null,
      "left": null,
      "margin": null,
      "max_height": null,
      "max_width": null,
      "min_height": null,
      "min_width": null,
      "object_fit": null,
      "object_position": null,
      "order": null,
      "overflow": null,
      "overflow_x": null,
      "overflow_y": null,
      "padding": null,
      "right": null,
      "top": null,
      "visibility": null,
      "width": null
     }
    },
    "30c12d51d9f747f8b65b2222e28d0956": {
     "model_module": "@jupyter-widgets/base",
     "model_module_version": "1.2.0",
     "model_name": "LayoutModel",
     "state": {
      "_model_module": "@jupyter-widgets/base",
      "_model_module_version": "1.2.0",
      "_model_name": "LayoutModel",
      "_view_count": null,
      "_view_module": "@jupyter-widgets/base",
      "_view_module_version": "1.2.0",
      "_view_name": "LayoutView",
      "align_content": null,
      "align_items": null,
      "align_self": null,
      "border": null,
      "bottom": null,
      "display": null,
      "flex": null,
      "flex_flow": null,
      "grid_area": null,
      "grid_auto_columns": null,
      "grid_auto_flow": null,
      "grid_auto_rows": null,
      "grid_column": null,
      "grid_gap": null,
      "grid_row": null,
      "grid_template_areas": null,
      "grid_template_columns": null,
      "grid_template_rows": null,
      "height": null,
      "justify_content": null,
      "justify_items": null,
      "left": null,
      "margin": null,
      "max_height": null,
      "max_width": null,
      "min_height": null,
      "min_width": null,
      "object_fit": null,
      "object_position": null,
      "order": null,
      "overflow": null,
      "overflow_x": null,
      "overflow_y": null,
      "padding": null,
      "right": null,
      "top": null,
      "visibility": null,
      "width": null
     }
    },
    "37ef8c1ab50b4364bde3991c8d3047ee": {
     "model_module": "@jupyter-widgets/controls",
     "model_module_version": "1.5.0",
     "model_name": "DescriptionStyleModel",
     "state": {
      "_model_module": "@jupyter-widgets/controls",
      "_model_module_version": "1.5.0",
      "_model_name": "DescriptionStyleModel",
      "_view_count": null,
      "_view_module": "@jupyter-widgets/base",
      "_view_module_version": "1.2.0",
      "_view_name": "StyleView",
      "description_width": ""
     }
    },
    "39930de3b8774a1fa5841adbabec699e": {
     "model_module": "@jupyter-widgets/controls",
     "model_module_version": "1.5.0",
     "model_name": "DescriptionStyleModel",
     "state": {
      "_model_module": "@jupyter-widgets/controls",
      "_model_module_version": "1.5.0",
      "_model_name": "DescriptionStyleModel",
      "_view_count": null,
      "_view_module": "@jupyter-widgets/base",
      "_view_module_version": "1.2.0",
      "_view_name": "StyleView",
      "description_width": ""
     }
    },
    "5ba4547a5f404864b5dc28e1a18cc384": {
     "model_module": "@jupyter-widgets/controls",
     "model_module_version": "1.5.0",
     "model_name": "HTMLModel",
     "state": {
      "_dom_classes": [],
      "_model_module": "@jupyter-widgets/controls",
      "_model_module_version": "1.5.0",
      "_model_name": "HTMLModel",
      "_view_count": null,
      "_view_module": "@jupyter-widgets/controls",
      "_view_module_version": "1.5.0",
      "_view_name": "HTMLView",
      "description": "",
      "description_tooltip": null,
      "layout": "IPY_MODEL_2b250da531934bb5874a5af261c97e53",
      "placeholder": "​",
      "style": "IPY_MODEL_39930de3b8774a1fa5841adbabec699e",
      "value": "100%"
     }
    },
    "5fceddccde554f2d942c11679dc3c986": {
     "model_module": "@jupyter-widgets/controls",
     "model_module_version": "1.5.0",
     "model_name": "HBoxModel",
     "state": {
      "_dom_classes": [],
      "_model_module": "@jupyter-widgets/controls",
      "_model_module_version": "1.5.0",
      "_model_name": "HBoxModel",
      "_view_count": null,
      "_view_module": "@jupyter-widgets/controls",
      "_view_module_version": "1.5.0",
      "_view_name": "HBoxView",
      "box_style": "",
      "children": [
       "IPY_MODEL_5ba4547a5f404864b5dc28e1a18cc384",
       "IPY_MODEL_ec26fda46b5449e59d4a39e55b700db1",
       "IPY_MODEL_a2818c8b53df4482817879334c8c8559"
      ],
      "layout": "IPY_MODEL_30c12d51d9f747f8b65b2222e28d0956"
     }
    },
    "90f9f36e05b54e799daf9aee65a133a8": {
     "model_module": "@jupyter-widgets/controls",
     "model_module_version": "1.5.0",
     "model_name": "ProgressStyleModel",
     "state": {
      "_model_module": "@jupyter-widgets/controls",
      "_model_module_version": "1.5.0",
      "_model_name": "ProgressStyleModel",
      "_view_count": null,
      "_view_module": "@jupyter-widgets/base",
      "_view_module_version": "1.2.0",
      "_view_name": "StyleView",
      "bar_color": null,
      "description_width": ""
     }
    },
    "a2818c8b53df4482817879334c8c8559": {
     "model_module": "@jupyter-widgets/controls",
     "model_module_version": "1.5.0",
     "model_name": "HTMLModel",
     "state": {
      "_dom_classes": [],
      "_model_module": "@jupyter-widgets/controls",
      "_model_module_version": "1.5.0",
      "_model_name": "HTMLModel",
      "_view_count": null,
      "_view_module": "@jupyter-widgets/controls",
      "_view_module_version": "1.5.0",
      "_view_name": "HTMLView",
      "description": "",
      "description_tooltip": null,
      "layout": "IPY_MODEL_dd68ec9dea2141a4892663e66e9d54a8",
      "placeholder": "​",
      "style": "IPY_MODEL_37ef8c1ab50b4364bde3991c8d3047ee",
      "value": " 35461855/35461855 [01:16&lt;00:00, 5101979.40it/s]"
     }
    },
    "bcca1e1d2ad8446797fc9d67f25bc694": {
     "model_module": "@jupyter-widgets/base",
     "model_module_version": "1.2.0",
     "model_name": "LayoutModel",
     "state": {
      "_model_module": "@jupyter-widgets/base",
      "_model_module_version": "1.2.0",
      "_model_name": "LayoutModel",
      "_view_count": null,
      "_view_module": "@jupyter-widgets/base",
      "_view_module_version": "1.2.0",
      "_view_name": "LayoutView",
      "align_content": null,
      "align_items": null,
      "align_self": null,
      "border": null,
      "bottom": null,
      "display": null,
      "flex": null,
      "flex_flow": null,
      "grid_area": null,
      "grid_auto_columns": null,
      "grid_auto_flow": null,
      "grid_auto_rows": null,
      "grid_column": null,
      "grid_gap": null,
      "grid_row": null,
      "grid_template_areas": null,
      "grid_template_columns": null,
      "grid_template_rows": null,
      "height": null,
      "justify_content": null,
      "justify_items": null,
      "left": null,
      "margin": null,
      "max_height": null,
      "max_width": null,
      "min_height": null,
      "min_width": null,
      "object_fit": null,
      "object_position": null,
      "order": null,
      "overflow": null,
      "overflow_x": null,
      "overflow_y": null,
      "padding": null,
      "right": null,
      "top": null,
      "visibility": null,
      "width": null
     }
    },
    "dd68ec9dea2141a4892663e66e9d54a8": {
     "model_module": "@jupyter-widgets/base",
     "model_module_version": "1.2.0",
     "model_name": "LayoutModel",
     "state": {
      "_model_module": "@jupyter-widgets/base",
      "_model_module_version": "1.2.0",
      "_model_name": "LayoutModel",
      "_view_count": null,
      "_view_module": "@jupyter-widgets/base",
      "_view_module_version": "1.2.0",
      "_view_name": "LayoutView",
      "align_content": null,
      "align_items": null,
      "align_self": null,
      "border": null,
      "bottom": null,
      "display": null,
      "flex": null,
      "flex_flow": null,
      "grid_area": null,
      "grid_auto_columns": null,
      "grid_auto_flow": null,
      "grid_auto_rows": null,
      "grid_column": null,
      "grid_gap": null,
      "grid_row": null,
      "grid_template_areas": null,
      "grid_template_columns": null,
      "grid_template_rows": null,
      "height": null,
      "justify_content": null,
      "justify_items": null,
      "left": null,
      "margin": null,
      "max_height": null,
      "max_width": null,
      "min_height": null,
      "min_width": null,
      "object_fit": null,
      "object_position": null,
      "order": null,
      "overflow": null,
      "overflow_x": null,
      "overflow_y": null,
      "padding": null,
      "right": null,
      "top": null,
      "visibility": null,
      "width": null
     }
    },
    "ec26fda46b5449e59d4a39e55b700db1": {
     "model_module": "@jupyter-widgets/controls",
     "model_module_version": "1.5.0",
     "model_name": "FloatProgressModel",
     "state": {
      "_dom_classes": [],
      "_model_module": "@jupyter-widgets/controls",
      "_model_module_version": "1.5.0",
      "_model_name": "FloatProgressModel",
      "_view_count": null,
      "_view_module": "@jupyter-widgets/controls",
      "_view_module_version": "1.5.0",
      "_view_name": "ProgressView",
      "bar_style": "success",
      "description": "",
      "description_tooltip": null,
      "layout": "IPY_MODEL_bcca1e1d2ad8446797fc9d67f25bc694",
      "max": 35461855,
      "min": 0,
      "orientation": "horizontal",
      "style": "IPY_MODEL_90f9f36e05b54e799daf9aee65a133a8",
      "value": 35461855
     }
    }
   }
  }
 },
 "nbformat": 4,
 "nbformat_minor": 5
}
